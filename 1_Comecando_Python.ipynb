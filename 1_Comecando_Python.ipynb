{
 "cells": [
  {
   "cell_type": "code",
   "execution_count": 1,
   "metadata": {},
   "outputs": [
    {
     "name": "stdout",
     "output_type": "stream",
     "text": [
      "123\n"
     ]
    }
   ],
   "source": [
    "# Isso e um comentario\n",
    "print(123) # Aqui tambem e um comentario\n",
    "# Tambem posso coloca em baixo um comentario"
   ]
  },
  {
   "cell_type": "code",
   "execution_count": 2,
   "metadata": {},
   "outputs": [
    {
     "data": {
      "text/plain": [
       "'\\nIsso tudo e o que chamamos de DocStrings\\n'"
      ]
     },
     "execution_count": 2,
     "metadata": {},
     "output_type": "execute_result"
    }
   ],
   "source": [
    "'''\n",
    "Isso tudo e o que chamamos de DocStrings\n",
    "'''"
   ]
  },
  {
   "cell_type": "code",
   "execution_count": 3,
   "metadata": {},
   "outputs": [
    {
     "name": "stdout",
     "output_type": "stream",
     "text": [
      "Deus e Mais\n"
     ]
    }
   ],
   "source": [
    "# A função print serve para imprimir o conteudo na tela\n",
    "print(\"Deus e Mais\")"
   ]
  },
  {
   "cell_type": "code",
   "execution_count": 4,
   "metadata": {},
   "outputs": [
    {
     "name": "stdout",
     "output_type": "stream",
     "text": [
      "45 - 56\n",
      "Novo Mundo 00 Todo dia tem Cachorro Bonito\n"
     ]
    }
   ],
   "source": [
    "# (sep) separador\n",
    "print(45, 56, sep=' - ')\n",
    "\n",
    "# (end) Quebra de linha\n",
    "print('Novo Mundo', 'Todo dia tem', sep=' 00 ', end=' ')\n",
    "print('Cachorro Bonito')"
   ]
  },
  {
   "cell_type": "code",
   "execution_count": null,
   "metadata": {},
   "outputs": [],
   "source": []
  },
  {
   "cell_type": "code",
   "execution_count": 5,
   "metadata": {},
   "outputs": [
    {
     "name": "stdout",
     "output_type": "stream",
     "text": [
      "Francisco Douglas\n",
      "Francisco Douglas\n",
      "Francisco \"Douglas\n",
      "Francisco 'Douglas' \n"
     ]
    }
   ],
   "source": [
    "'''\n",
    "Python - Liguagem de Programação\n",
    "Tipo de Tipagem = Dinamica / Forte\n",
    "(str) string textos ou qualquer coisa que estive entre aspas\n",
    "String sao textos que estao dentro de aspas\n",
    "'''\n",
    "\n",
    "# Aspas simples\n",
    "print('Francisco Douglas')\n",
    "\n",
    "# Aspas Duplas\n",
    "print(\"Francisco Douglas\")\n",
    "\n",
    "# Escape\n",
    "print(\"Francisco \\\"Douglas\") # Numca utilize assim\n",
    "print(\"Francisco 'Douglas' \") # Utilize sempre assim"
   ]
  },
  {
   "cell_type": "code",
   "execution_count": 6,
   "metadata": {},
   "outputs": [
    {
     "name": "stdout",
     "output_type": "stream",
     "text": [
      "Dez e igual a 10: True\n",
      "Dez e igual a 11: False\n"
     ]
    }
   ],
   "source": [
    "# Booleano True e False\n",
    "print('Dez e igual a 10:', 10 == 10)\n",
    "print('Dez e igual a 11:', 10 == 11)"
   ]
  },
  {
   "cell_type": "code",
   "execution_count": 10,
   "metadata": {},
   "outputs": [
    {
     "name": "stdout",
     "output_type": "stream",
     "text": [
      "Francisco Douglas voce tem 28\n",
      "Voce nasceu em 1995. Maior de Idade True e tem 1.67 Metros\n"
     ]
    }
   ],
   "source": [
    "nome = 'Francisco'\n",
    "sobrenome = 'Douglas'\n",
    "idade = 28\n",
    "ano_nascimento = 1995\n",
    "maior_de_idade = True\n",
    "altura_metros = 1.67\n",
    "\n",
    "print(f'{nome} {sobrenome} voce tem {idade}')\n",
    "print(f'Voce nasceu em {ano_nascimento}. Maior de Idade {maior_de_idade} e tem {altura_metros} Metros')"
   ]
  },
  {
   "cell_type": "code",
   "execution_count": 5,
   "metadata": {},
   "outputs": [
    {
     "name": "stdout",
     "output_type": "stream",
     "text": [
      "Francisco Douglas\n",
      "Francisco Francisco Francisco Francisco Francisco \n"
     ]
    }
   ],
   "source": [
    "# Concatenação\n",
    "concatenacao = 'Francisco' + ' ' + 'Douglas'\n",
    "print(concatenacao)\n",
    "\n",
    "nome_cinco_vezes = 'Francisco ' * 5\n",
    "print(nome_cinco_vezes)"
   ]
  },
  {
   "cell_type": "code",
   "execution_count": 7,
   "metadata": {},
   "outputs": [
    {
     "name": "stdout",
     "output_type": "stream",
     "text": [
      "Francisco Douglas seu imc e de 29.04\n"
     ]
    }
   ],
   "source": [
    "# Calculo do IMC\n",
    "nome = 'Francisco Douglas'\n",
    "altura = 1.67\n",
    "peso = 81.00\n",
    "imc = peso / (altura ** 2)\n",
    "\n",
    "print(f'{nome} seu imc e de {imc:.2f}')"
   ]
  },
  {
   "cell_type": "code",
   "execution_count": 1,
   "metadata": {},
   "outputs": [
    {
     "name": "stdout",
     "output_type": "stream",
     "text": [
      "Seu nome e Francisco Douglas\n"
     ]
    }
   ],
   "source": [
    "nome = 'Francisco Douglas'\n",
    "nome_e = f'Seu nome e {nome}'\n",
    "print(nome_e)"
   ]
  }
 ],
 "metadata": {
  "kernelspec": {
   "display_name": "Python 3 (ipykernel)",
   "language": "python",
   "name": "python3"
  },
  "language_info": {
   "codemirror_mode": {
    "name": "ipython",
    "version": 3
   },
   "file_extension": ".py",
   "mimetype": "text/x-python",
   "name": "python",
   "nbconvert_exporter": "python",
   "pygments_lexer": "ipython3",
   "version": "3.10.9"
  }
 },
 "nbformat": 4,
 "nbformat_minor": 2
}
