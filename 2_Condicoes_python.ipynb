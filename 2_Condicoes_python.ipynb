{
 "cells": [
  {
   "cell_type": "code",
   "execution_count": 3,
   "metadata": {},
   "outputs": [
    {
     "name": "stdout",
     "output_type": "stream",
     "text": [
      "Voce naõ digitou corretamente\n"
     ]
    }
   ],
   "source": [
    "# Condições \n",
    "entrada = input('Vocer quer entrar ou sair? ')\n",
    "\n",
    "if entrada == 'entrar':\n",
    "    print('Voce entrou no programa')\n",
    "elif entrada == 'sair':\n",
    "    print('Voce saiu do sistema')\n",
    "else:\n",
    "    print('Voce naõ digitou corretamente')"
   ]
  },
  {
   "cell_type": "code",
   "execution_count": 1,
   "metadata": {},
   "outputs": [
    {
     "name": "stdout",
     "output_type": "stream",
     "text": [
      "3 e maior do que 2\n"
     ]
    }
   ],
   "source": [
    "# Exemplo simpes\n",
    "primeiro_valor = input('Digite o primeiro valor: ')\n",
    "segundo_valor = input('Digite o segundo valor: ')\n",
    "\n",
    "if primeiro_valor > segundo_valor:\n",
    "    print(\n",
    "        f'{primeiro_valor} e maior ou igual'\n",
    "        f'do que {segundo_valor}'\n",
    "    )\n",
    "else:\n",
    "    print(\n",
    "        f'{segundo_valor} e maior '\n",
    "        f'do que {primeiro_valor}'\n",
    "    )"
   ]
  },
  {
   "cell_type": "code",
   "execution_count": 6,
   "metadata": {},
   "outputs": [
    {
     "name": "stdout",
     "output_type": "stream",
     "text": [
      "Voce saiu do programa\n"
     ]
    }
   ],
   "source": [
    "entrada = input('Entrar [E], Sair [S]: ').upper()\n",
    "senha_digitada = input('Digite sua senha: ')\n",
    "\n",
    "senha_permitida = '123456'\n",
    "\n",
    "if entrada == 'E' and senha_digitada == senha_permitida:\n",
    "    print('Voce entrou no programa')\n",
    "else:\n",
    "    print('Voce saiu do programa')"
   ]
  },
  {
   "cell_type": "code",
   "execution_count": 7,
   "metadata": {},
   "outputs": [
    {
     "name": "stdout",
     "output_type": "stream",
     "text": [
      "1 1\n"
     ]
    }
   ],
   "source": [
    "variavel_a = 1 or 0\n",
    "variavel_b = 0 or 1\n",
    "print(variavel_a, variavel_a)"
   ]
  },
  {
   "cell_type": "code",
   "execution_count": 8,
   "metadata": {},
   "outputs": [
    {
     "name": "stdout",
     "output_type": "stream",
     "text": [
      "O nome Maria Carmo tem espaços.\n"
     ]
    }
   ],
   "source": [
    "nome = 'Maria Carmo'\n",
    " \n",
    "if ' ' in nome:\n",
    "    print(f'O nome {nome} tem espaços.')\n",
    "else:\n",
    "    print(f'O nome {nome} NÃO tem espaços.')\n",
    " "
   ]
  },
  {
   "cell_type": "code",
   "execution_count": 9,
   "metadata": {},
   "outputs": [
    {
     "name": "stdout",
     "output_type": "stream",
     "text": [
      "Numero maior que 3\n"
     ]
    }
   ],
   "source": [
    "numero = 10\n",
    "\n",
    "if numero > 1:\n",
    "    if numero > 2:\n",
    "        if numero > 3:\n",
    "            print('Numero maior que 3')\n",
    "        else:\n",
    "            print('Numero menor que 3')\n",
    "    else:\n",
    "        print('Numero menor que 2')\n",
    "else:\n",
    "    print('Numero menor que 1')"
   ]
  },
  {
   "cell_type": "code",
   "execution_count": 2,
   "metadata": {},
   "outputs": [
    {
     "name": "stdout",
     "output_type": "stream",
     "text": [
      "Seu nome e Francisco\n",
      "Seu nome invertido e ocsicnarF\n",
      "Seu nome Não tem espaços\n",
      "Seu nome tem 9 letras\n",
      "A primeira letra do Seu nome e F\n",
      "A ultima letra do Seu nome e o\n"
     ]
    }
   ],
   "source": [
    "\"\"\"\n",
    "Exercício\n",
    "Peça ao usuário para digitar seu nome\n",
    "Peça ao usuário para digitar sua idade\n",
    "Se nome e idade forem digitados:\n",
    "    Exiba:\n",
    "        Seu nome é {nome}\n",
    "        Seu nome invertido é {nome invertido}\n",
    "        Seu nome contém (ou não) espaços\n",
    "        Seu nome tem {n} letras\n",
    "        A primeira letra do seu nome é {letra}\n",
    "        A última letra do seu nome é {letra}\n",
    "Se nada for digitado em nome ou idade: \n",
    "    exiba \"Desculpe, você deixou campos vazios.\"\n",
    "\"\"\"\n",
    "\n",
    "nome = input('Digite o seu nome: ')\n",
    "idade = int(input('Digite a sua idade: '))\n",
    "\n",
    "if nome and idade:\n",
    "    print(f'Seu nome e {nome}')\n",
    "    print(f'Seu nome invertido e {nome[::-1]}')\n",
    "\n",
    "    if ' ' in nome:\n",
    "        print('Seu nome tem espaços')\n",
    "    else:\n",
    "        print('Seu nome Não tem espaços')\n",
    "\n",
    "    print(f'Seu nome tem {len(nome)} letras')\n",
    "    print(f'A primeira letra do Seu nome e {nome[0]}')\n",
    "    print(f'A ultima letra do Seu nome e {nome[-1]}')\n",
    "else:\n",
    "    print('Desculpe, voce deixou os campos vazios')\n",
    " "
   ]
  },
  {
   "cell_type": "code",
   "execution_count": 4,
   "metadata": {},
   "outputs": [
    {
     "name": "stdout",
     "output_type": "stream",
     "text": [
      "Numero em STR:  3\n",
      "O Dobro de 3.0 e 6.00\n"
     ]
    }
   ],
   "source": [
    "'''\n",
    "trey \n",
    "except\n",
    "'''\n",
    "\n",
    "numero_str = input('Digite um numero: ')\n",
    "\n",
    "try:\n",
    " print('Numero em STR: ', numero_str)\n",
    " numero_float = float(numero_str)\n",
    " print(f'O Dobro de {numero_float} e {numero_float * 2:.2f}')\n",
    "except:\n",
    " print('Tivemos um erro')"
   ]
  },
  {
   "attachments": {},
   "cell_type": "markdown",
   "metadata": {},
   "source": [
    "## Repetições em Python Wile"
   ]
  },
  {
   "cell_type": "code",
   "execution_count": 28,
   "metadata": {},
   "outputs": [
    {
     "name": "stdout",
     "output_type": "stream",
     "text": [
      "1 2 3 4 5 6 7 8 9 10 Programa encerrado com sucesso\n"
     ]
    }
   ],
   "source": [
    "# while (enquanto)\n",
    "# Executa uma ação enquanto uma condição for verdadeira\n",
    "\n",
    "condicao = 0\n",
    "\n",
    "while True:\n",
    " condicao += 1\n",
    " print(condicao, end=' ')\n",
    " if condicao >= 10:\n",
    "  break\n",
    "print('Programa encerrado com sucesso')"
   ]
  },
  {
   "cell_type": "code",
   "execution_count": 27,
   "metadata": {},
   "outputs": [
    {
     "name": "stdout",
     "output_type": "stream",
     "text": [
      "MARIA\n",
      "CLARA\n",
      "GILBERTO\n",
      "MAGNO\n",
      "RUFLO\n",
      "ABC\n",
      "SER\n",
      "S\n"
     ]
    }
   ],
   "source": [
    "while True:\n",
    " nome = str(input('Digite o nome: S para [Sair]: ')).upper()\n",
    " print(nome)\n",
    " if nome == 'S':\n",
    "  break\n"
   ]
  },
  {
   "cell_type": "code",
   "execution_count": 42,
   "metadata": {},
   "outputs": [
    {
     "name": "stdout",
     "output_type": "stream",
     "text": [
      "1. 2. 3. 4. 5. 6. 7. 8. 9. 10. "
     ]
    }
   ],
   "source": [
    "contador = 0\n",
    "while contador < 10:\n",
    " contador += 1\n",
    " print(contador, end='. ')"
   ]
  },
  {
   "cell_type": "code",
   "execution_count": 55,
   "metadata": {},
   "outputs": [
    {
     "name": "stdout",
     "output_type": "stream",
     "text": [
      "\n",
      "linha = 1 coluna = 1\n",
      "linha = 1 coluna = 2\n",
      "linha = 1 coluna = 3\n",
      "\n",
      "linha = 2 coluna = 1\n",
      "linha = 2 coluna = 2\n",
      "linha = 2 coluna = 3\n",
      "\n",
      "linha = 3 coluna = 1\n",
      "linha = 3 coluna = 2\n",
      "linha = 3 coluna = 3\n",
      "\n",
      "linha = 4 coluna = 1\n",
      "linha = 4 coluna = 2\n",
      "linha = 4 coluna = 3\n",
      "Programa Encerrado com sucesso\n"
     ]
    }
   ],
   "source": [
    "# while + while\n",
    "qtd_linhas = 3\n",
    "qtd_colunas = 3\n",
    "\n",
    "linha = 0\n",
    "while linha <= qtd_linhas:\n",
    " coluna = 1\n",
    " linha += 1\n",
    " print('')\n",
    " while coluna <= qtd_colunas:\n",
    "  print(f'{linha = } {coluna = }')\n",
    "  coluna += 1\n",
    "\n",
    "print('Programa Encerrado com sucesso')"
   ]
  },
  {
   "cell_type": "code",
   "execution_count": null,
   "metadata": {},
   "outputs": [],
   "source": []
  },
  {
   "cell_type": "code",
   "execution_count": null,
   "metadata": {},
   "outputs": [],
   "source": []
  },
  {
   "cell_type": "code",
   "execution_count": null,
   "metadata": {},
   "outputs": [],
   "source": []
  },
  {
   "cell_type": "code",
   "execution_count": null,
   "metadata": {},
   "outputs": [],
   "source": []
  }
 ],
 "metadata": {
  "kernelspec": {
   "display_name": "base",
   "language": "python",
   "name": "python3"
  },
  "language_info": {
   "codemirror_mode": {
    "name": "ipython",
    "version": 3
   },
   "file_extension": ".py",
   "mimetype": "text/x-python",
   "name": "python",
   "nbconvert_exporter": "python",
   "pygments_lexer": "ipython3",
   "version": "3.10.9"
  },
  "orig_nbformat": 4
 },
 "nbformat": 4,
 "nbformat_minor": 2
}
